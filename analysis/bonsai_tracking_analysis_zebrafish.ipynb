{
 "cells": [
  {
   "cell_type": "markdown",
   "id": "548b4656",
   "metadata": {},
   "source": [
    "### Analysis position fish"
   ]
  },
  {
   "cell_type": "code",
   "execution_count": 1,
   "id": "a1eaf0ec",
   "metadata": {},
   "outputs": [],
   "source": [
    "from pathlib import Path\n",
    "import pandas as pd\n",
    "import matplotlib.pyplot as plt\n",
    "import numpy as np\n",
    "import re\n",
    "#import video_analysis as videocam"
   ]
  },
  {
   "cell_type": "code",
   "execution_count": 2,
   "id": "2c7eafe8",
   "metadata": {},
   "outputs": [],
   "source": [
    "tracking_folder = Path(r\"\\\\cimec-storage5\\acn_lab\\shared_acn\\Matilde\\zebrafish\\biodi_experiment\\experiment_data\\video\\2023-11-10\\ID71\\tracking\")"
   ]
  },
  {
   "cell_type": "code",
   "execution_count": 5,
   "id": "9c55318d",
   "metadata": {},
   "outputs": [
    {
     "ename": "ValueError",
     "evalue": "dictionary update sequence element #0 has length 1; 2 is required",
     "output_type": "error",
     "traceback": [
      "\u001b[1;31m---------------------------------------------------------------------------\u001b[0m",
      "\u001b[1;31mValueError\u001b[0m                                Traceback (most recent call last)",
      "\u001b[1;32m<ipython-input-5-286146abc305>\u001b[0m in \u001b[0;36m<module>\u001b[1;34m\u001b[0m\n\u001b[1;32m----> 1\u001b[1;33m \u001b[0mdata\u001b[0m \u001b[1;33m=\u001b[0m \u001b[0mdict\u001b[0m\u001b[1;33m(\u001b[0m\u001b[1;34m'fish'\u001b[0m\u001b[1;33m)\u001b[0m\u001b[1;33m\u001b[0m\u001b[1;33m\u001b[0m\u001b[0m\n\u001b[0m\u001b[0;32m      2\u001b[0m \u001b[1;33m\u001b[0m\u001b[0m\n\u001b[0;32m      3\u001b[0m \u001b[1;32mfor\u001b[0m \u001b[0mfile\u001b[0m \u001b[1;32min\u001b[0m \u001b[0menumerate\u001b[0m\u001b[1;33m(\u001b[0m\u001b[0msorted\u001b[0m\u001b[1;33m(\u001b[0m\u001b[0mfolder\u001b[0m\u001b[1;33m.\u001b[0m\u001b[0mglob\u001b[0m\u001b[1;33m(\u001b[0m\u001b[1;34m\"*ID*\"\u001b[0m\u001b[1;33m)\u001b[0m\u001b[1;33m)\u001b[0m\u001b[1;33m)\u001b[0m\u001b[1;33m:\u001b[0m\u001b[1;33m\u001b[0m\u001b[1;33m\u001b[0m\u001b[0m\n\u001b[0;32m      4\u001b[0m     \u001b[0mmatch\u001b[0m \u001b[1;33m=\u001b[0m \u001b[0mre\u001b[0m\u001b[1;33m.\u001b[0m\u001b[0msearch\u001b[0m\u001b[1;33m(\u001b[0m\u001b[1;34mr'ID(\\d+)'\u001b[0m\u001b[1;33m,\u001b[0m \u001b[0mfile\u001b[0m\u001b[1;33m.\u001b[0m\u001b[0mstem\u001b[0m\u001b[1;33m)\u001b[0m\u001b[1;33m\u001b[0m\u001b[1;33m\u001b[0m\u001b[0m\n\u001b[0;32m      5\u001b[0m     \u001b[0mid_exp_session\u001b[0m \u001b[1;33m=\u001b[0m \u001b[0mint\u001b[0m\u001b[1;33m(\u001b[0m\u001b[0mmatch\u001b[0m\u001b[1;33m.\u001b[0m\u001b[0mgroup\u001b[0m\u001b[1;33m(\u001b[0m\u001b[1;36m1\u001b[0m\u001b[1;33m)\u001b[0m\u001b[1;33m)\u001b[0m\u001b[1;33m\u001b[0m\u001b[1;33m\u001b[0m\u001b[0m\n",
      "\u001b[1;31mValueError\u001b[0m: dictionary update sequence element #0 has length 1; 2 is required"
     ]
    }
   ],
   "source": [
    "#data = dict('fish')\n",
    " \n",
    "for file in enumerate(sorted(folder.glob(\"*ID*\"))):\n",
    "    match = re.search(r'ID(\\d+)', file.stem)\n",
    "    id_exp_session = int(match.group(1))\n",
    "    if f'experiment_ID_{id_exp_session}' in data:\n",
    "            data[f'{id_exp_session}'] = dict()\n",
    "            data[f'{id_exp_session}']['fish_{n}']\n",
    "    else:\n",
    "        data[f'{id_exp_session}'] = dict()\n",
    "        \n",
    "    data[f'{id_exp_session}'] = dict()\n",
    "    \n",
    "    data[f'fish_{n}'] = pd.read_csv(file) #fish_track = pd.read_csv(file)"
   ]
  },
  {
   "cell_type": "code",
   "execution_count": 4,
   "id": "d2bafa25",
   "metadata": {},
   "outputs": [
    {
     "name": "stdout",
     "output_type": "stream",
     "text": [
      "\\\\cimec-storage5\\acn_lab\\shared_acn\\Matilde\\zebrafish\\biodi_experiment\\experiment_data\\video\\2023-08-03\\ID33\\tracking\\fish1_HAB_ID33_2023-08-03T15_03_36.csv\n",
      "\\\\cimec-storage5\\acn_lab\\shared_acn\\Matilde\\zebrafish\\biodi_experiment\\experiment_data\\video\\2023-08-03\\ID33\\tracking\\fish1_TEST_ID33_2023-08-03T15_08_36.csv\n",
      "\\\\cimec-storage5\\acn_lab\\shared_acn\\Matilde\\zebrafish\\biodi_experiment\\experiment_data\\video\\2023-08-03\\ID33\\tracking\\fish2_HAB_ID33_2023-08-03T15_03_36.csv\n",
      "\\\\cimec-storage5\\acn_lab\\shared_acn\\Matilde\\zebrafish\\biodi_experiment\\experiment_data\\video\\2023-08-03\\ID33\\tracking\\fish2_TEST_ID33_2023-08-03T15_08_36.csv\n",
      "\\\\cimec-storage5\\acn_lab\\shared_acn\\Matilde\\zebrafish\\biodi_experiment\\experiment_data\\video\\2023-08-03\\ID33\\tracking\\fish3_HAB_ID33_2023-08-03T15_03_36.csv\n",
      "\\\\cimec-storage5\\acn_lab\\shared_acn\\Matilde\\zebrafish\\biodi_experiment\\experiment_data\\video\\2023-08-03\\ID33\\tracking\\fish3_TEST_ID33_2023-08-03T15_08_36.csv\n"
     ]
    }
   ],
   "source": [
    "folder = Path(r\"\\\\cimec-storage5\\acn_lab\\shared_acn\\Matilde\\zebrafish\\biodi_experiment\\experiment_data\\video\\2023-08-03\\ID33\\tracking\")\n",
    "\n",
    "for file in folder.glob(\"*ID33*\"):\n",
    "    print(file)"
   ]
  },
  {
   "cell_type": "code",
   "execution_count": null,
   "id": "f022d4bd",
   "metadata": {},
   "outputs": [],
   "source": [
    "for exp in folder."
   ]
  },
  {
   "cell_type": "code",
   "execution_count": 64,
   "id": "53cf136f",
   "metadata": {},
   "outputs": [],
   "source": [
    "folder = Path(r'\\\\cimec-storage5\\acn_lab\\shared_acn\\Matilde\\zebrafish\\biodi_experiment\\experiment_data\\reorganized_video')"
   ]
  },
  {
   "cell_type": "code",
   "execution_count": 65,
   "id": "5ef1d14d",
   "metadata": {},
   "outputs": [
    {
     "name": "stdout",
     "output_type": "stream",
     "text": [
      "2023-05-17-1606_ID01_biodi_exp1-flock-random2.csv\n",
      "2023-05-17-1652_ID02_biodi_exp1-flock-random2.csv\n",
      "2023-05-17-1749_ID03_biodi_exp1-flock-random2.csv\n",
      "2023-05-20-1727_ID04_biodi_exp1-flock-random1.csv\n",
      "2023-05-20-1808_ID05_biodi_exp1-flock-random1.csv\n",
      "2023-07-28-1413_ID29_biodi_exp2-n6-speed3-6.csv\n",
      "2023-05-21-1703_ID06_biodi_exp1-random1-random2.csv\n",
      "2023-05-21-1749_ID07_biodi_exp1-random1-random2.csv\n",
      "2023-05-21-1828_ID08_biodi_exp1-random1-random2.csv\n",
      "2023-05-23-1443_ID09_biodi_exp1-flock-random2.csv\n",
      "2023-05-23-1525_ID10_biodi_exp1-flock-random2.csv\n",
      "2023-05-24-1711_ID11_biodi_exp1-flock-random2.csv\n",
      "2023-05-24-1804_ID12_biodi_exp1-flock-random1.csv\n",
      "2023-05-25-1519_ID13_biodi_exp3-n3-speed6-n6-speed6.csv\n",
      "2023-05-25-1608_ID14_biodi_exp3-n3-speed6-n6-speed6.csv\n",
      "2023-05-25-1647_ID15_biodi_exp3-n3-speed6-n6-speed6.csv\n",
      "2023-05-25-1726_ID16_biodi_realfish-empty.csv\n",
      "2023-05-26-1650_ID17_biodi_expWRONG-n6-speed12-n3-speed12.csv\n",
      "2023-05-26-1816_ID18_biodi_exp2-n6-speed6-12.csv\n",
      "2023-05-26-1856_ID19_biodi_exp2-n6-speed6-12.csv\n",
      "2023-05-26-1935_ID20_biodi_exp-realfish-empty.csv\n",
      "2023-07-25-1642_ID21_biodi_exp2-n6-speed6-12.csv\n",
      "2023-07-25-1740_ID22_biodi_exp2-n6-speed6-12.csv\n",
      "2023-07-25-1821_ID23_biodi_exp2-n6-speed3-12.csv\n",
      "2023-07-26-1418_ID24_biodi_exp2-n6-speed3-12.csv\n",
      "2023-07-26-1555_ID25_biodi_exp2-n6-speed3-12.csv\n",
      "2023-07-27-1752_ID26_biodi_exp3-n3-speed12-n6-speed6.csv\n",
      "2023-07-27-1850_ID27_biodi_exp3-n3-speed12-n6-speed6.csv\n",
      "2023-07-27-1752_ID26_biodi_exp3-n3-speed12-n6-speed6.csv\n",
      "2023-07-27-1850_ID27_biodi_exp3-n3-speed12-n6-speed6.csv\n",
      "2023-07-28-1329_ID28_biodi_exp3-n3-speed12-n6-speed6.csv\n",
      "2023-07-28-1413_ID29_biodi_exp2-n6-speed3-6.csv\n",
      "2023-07-28-1735_ID30_biodi_exp2-n6-speed3-6.csv\n",
      "2023-07-28-1329_ID28_biodi_exp3-n3-speed12-n6-speed6.csv\n",
      "2023-07-28-1413_ID29_biodi_exp2-n6-speed3-6.csv\n",
      "2023-08-02-1523_ID31_biodi_exp2-n3-speed3-12.csv\n",
      "2023-08-02-1609_ID32_biodi_exp2-n3-speed3-12.csv\n"
     ]
    }
   ],
   "source": [
    "for file in folder.rglob('*biodi*csv'):\n",
    "    print(file.name)"
   ]
  },
  {
   "cell_type": "code",
   "execution_count": 69,
   "id": "368de255",
   "metadata": {},
   "outputs": [
    {
     "name": "stdout",
     "output_type": "stream",
     "text": [
      "0    exp2-n3-speed3-12\n",
      "Name: experimental_group, dtype: object\n",
      "0    32\n",
      "Name: session, dtype: int64\n",
      "0    left\n",
      "Name: screen1_side, dtype: object\n",
      "0    flock\n",
      "Name: screen1_stimulus, dtype: object\n",
      "0    3\n",
      "Name: screen1_number_dots, dtype: int64\n",
      "0    3.0\n",
      "Name: screen1_speed, dtype: float64\n",
      "0    right\n",
      "Name: screen2_side, dtype: object\n",
      "0    flock\n",
      "Name: screen2_stimulus, dtype: object\n",
      "0    3\n",
      "Name: screen2_number_dots, dtype: int64\n",
      "0    12.0\n",
      "Name: screen2_speed, dtype: float64\n"
     ]
    }
   ],
   "source": [
    "df = pd.read_csv(file)\n",
    "metadata = ['experimental_group','session','screen1_side','screen1_stimulus','screen1_number_dots','screen1_speed', 'screen2_side','screen2_stimulus','screen2_number_dots','screen2_speed']\n",
    "\n",
    "for variable in metadata:\n",
    "    print(df[variable])\n",
    "    \n",
    "    "
   ]
  },
  {
   "cell_type": "code",
   "execution_count": 78,
   "id": "47aa02f5",
   "metadata": {},
   "outputs": [
    {
     "ename": "AttributeError",
     "evalue": "'Series' object has no attribute 'toint'",
     "output_type": "error",
     "traceback": [
      "\u001b[1;31m---------------------------------------------------------------------------\u001b[0m",
      "\u001b[1;31mAttributeError\u001b[0m                            Traceback (most recent call last)",
      "\u001b[1;32m<ipython-input-78-54827ad69424>\u001b[0m in \u001b[0;36m<module>\u001b[1;34m\u001b[0m\n\u001b[1;32m----> 1\u001b[1;33m \u001b[0mdf\u001b[0m\u001b[1;33m[\u001b[0m\u001b[1;34m'session'\u001b[0m\u001b[1;33m]\u001b[0m\u001b[1;33m.\u001b[0m\u001b[0mtoint\u001b[0m\u001b[1;33m(\u001b[0m\u001b[1;33m)\u001b[0m\u001b[1;33m\u001b[0m\u001b[1;33m\u001b[0m\u001b[0m\n\u001b[0m",
      "\u001b[1;32m~\\Anaconda3\\lib\\site-packages\\pandas\\core\\generic.py\u001b[0m in \u001b[0;36m__getattr__\u001b[1;34m(self, name)\u001b[0m\n\u001b[0;32m   5463\u001b[0m             \u001b[1;32mif\u001b[0m \u001b[0mself\u001b[0m\u001b[1;33m.\u001b[0m\u001b[0m_info_axis\u001b[0m\u001b[1;33m.\u001b[0m\u001b[0m_can_hold_identifiers_and_holds_name\u001b[0m\u001b[1;33m(\u001b[0m\u001b[0mname\u001b[0m\u001b[1;33m)\u001b[0m\u001b[1;33m:\u001b[0m\u001b[1;33m\u001b[0m\u001b[1;33m\u001b[0m\u001b[0m\n\u001b[0;32m   5464\u001b[0m                 \u001b[1;32mreturn\u001b[0m \u001b[0mself\u001b[0m\u001b[1;33m[\u001b[0m\u001b[0mname\u001b[0m\u001b[1;33m]\u001b[0m\u001b[1;33m\u001b[0m\u001b[1;33m\u001b[0m\u001b[0m\n\u001b[1;32m-> 5465\u001b[1;33m             \u001b[1;32mreturn\u001b[0m \u001b[0mobject\u001b[0m\u001b[1;33m.\u001b[0m\u001b[0m__getattribute__\u001b[0m\u001b[1;33m(\u001b[0m\u001b[0mself\u001b[0m\u001b[1;33m,\u001b[0m \u001b[0mname\u001b[0m\u001b[1;33m)\u001b[0m\u001b[1;33m\u001b[0m\u001b[1;33m\u001b[0m\u001b[0m\n\u001b[0m\u001b[0;32m   5466\u001b[0m \u001b[1;33m\u001b[0m\u001b[0m\n\u001b[0;32m   5467\u001b[0m     \u001b[1;32mdef\u001b[0m \u001b[0m__setattr__\u001b[0m\u001b[1;33m(\u001b[0m\u001b[0mself\u001b[0m\u001b[1;33m,\u001b[0m \u001b[0mname\u001b[0m\u001b[1;33m:\u001b[0m \u001b[0mstr\u001b[0m\u001b[1;33m,\u001b[0m \u001b[0mvalue\u001b[0m\u001b[1;33m)\u001b[0m \u001b[1;33m->\u001b[0m \u001b[1;32mNone\u001b[0m\u001b[1;33m:\u001b[0m\u001b[1;33m\u001b[0m\u001b[1;33m\u001b[0m\u001b[0m\n",
      "\u001b[1;31mAttributeError\u001b[0m: 'Series' object has no attribute 'toint'"
     ]
    }
   ],
   "source": [
    "df['session'].toint()"
   ]
  },
  {
   "cell_type": "code",
   "execution_count": 5,
   "id": "0c79473f",
   "metadata": {},
   "outputs": [
    {
     "name": "stdout",
     "output_type": "stream",
     "text": [
      "fish1_HAB_ID71_2023-11-10T15_30_28.csv\n",
      "fish2_HAB_ID71_2023-11-10T15_30_28.csv\n",
      "fish2_TEST_ID71_2023-11-10T15_35_28.csv\n",
      "fish3_HAB_ID71_2023-11-10T15_30_28.csv\n",
      "fish3_TEST_ID71_2023-11-10T15_35_28.csv\n"
     ]
    }
   ],
   "source": [
    "folder = Path(r\"\\\\cimec-storage5\\acn_lab\\shared_acn\\Matilde\\zebrafish\\biodi_experiment\\experiment_data\\video\\2023-11-\\ID71\\tracking\")\n",
    "\n",
    "for file in folder.glob('*71*'):\n",
    "    print(file.name)"
   ]
  },
  {
   "cell_type": "code",
   "execution_count": 6,
   "id": "da7632b0",
   "metadata": {},
   "outputs": [
    {
     "data": {
      "image/png": "[encoded data removed]",
      "text/plain": [
       "<Figure size 432x288 with 1 Axes>"
      ]
     },
     "metadata": {
      "needs_background": "light"
     },
     "output_type": "display_data"
    },
    {
     "data": {
      "image/png": "[encoded data removed]",
      "text/plain": [
       "<Figure size 432x288 with 1 Axes>"
      ]
     },
     "metadata": {
      "needs_background": "light"
     },
     "output_type": "display_data"
    },
    {
     "data": {
      "image/png": "[encoded data removed]",
      "text/plain": [
       "<Figure size 432x288 with 1 Axes>"
      ]
     },
     "metadata": {
      "needs_background": "light"
     },
     "output_type": "display_data"
    },
    {
     "data": {
      "image/png": "[encoded data removed]",
      "text/plain": [
       "<Figure size 432x288 with 1 Axes>"
      ]
     },
     "metadata": {
      "needs_background": "light"
     },
     "output_type": "display_data"
    },
    {
     "data": {
      "image/png": "[encoded data removed]",
      "text/plain": [
       "<Figure size 432x288 with 1 Axes>"
      ]
     },
     "metadata": {
      "needs_background": "light"
     },
     "output_type": "display_data"
    }
   ],
   "source": [
    "selector = list(folder.glob('*71*'))\n",
    "frame_per_second = 30\n",
    "\n",
    "for i, file in enumerate(selector):\n",
    "    data = pd.read_csv(file)\n",
    "    data = data.rename(columns = {'Item1':'left_stimulus', 'Item2':'right_stimulus'})\n",
    "    my_data = data[['left_stimulus', 'right_stimulus']]\n",
    "    seconds_near_stimulus = my_data.sum()/frame_per_second\n",
    "    plt.figure()\n",
    "    plt.title(f\"{file.stem[:15]}\")\n",
    "    plt.ylim(0, 300)\n",
    "    seconds_near_stimulus.plot(kind='bar')"
   ]
  },
  {
   "cell_type": "code",
   "execution_count": 83,
   "id": "8f39356f",
   "metadata": {},
   "outputs": [
    {
     "data": {
      "text/plain": [
       "6"
      ]
     },
     "execution_count": 83,
     "metadata": {},
     "output_type": "execute_result"
    }
   ],
   "source": [
    "len(list(folder.glob('*39*16*')))"
   ]
  },
  {
   "cell_type": "code",
   "execution_count": 81,
   "id": "73e12180",
   "metadata": {},
   "outputs": [
    {
     "data": {
      "image/png": "[encoded data removed]",
      "text/plain": [
       "<Figure size 432x288 with 1 Axes>"
      ]
     },
     "metadata": {
      "needs_background": "light"
     },
     "output_type": "display_data"
    }
   ],
   "source": [
    "# Set the title for the plot\n",
    "plot_title = f\"Time Near Stimulus for Items {df['session'].values[0]}\"\n",
    "\n",
    "# Create the bar plot\n",
    "ax = seconds_near_stimulus.plot(kind='bar', legend=False)  # 'legend=False' to remove the legend\n",
    "\n",
    "# Set the title\n",
    "ax.set_title(plot_title)\n",
    "\n",
    "# Set labels for x and y axes\n",
    "ax.set_xlabel(\"Stimulus\")\n",
    "ax.set_ylabel(\"Time (seconds)\")\n",
    "\n",
    "# Display the plot\n",
    "plt.show()"
   ]
  },
  {
   "cell_type": "code",
   "execution_count": 160,
   "id": "fea63280",
   "metadata": {},
   "outputs": [
    {
     "data": {
      "text/plain": [
       "<Axes: >"
      ]
     },
     "execution_count": 160,
     "metadata": {},
     "output_type": "execute_result"
    },
    {
     "data": {
      "image/png": "[encoded data removed]",
      "text/plain": [
       "<Figure size 432x288 with 1 Axes>"
      ]
     },
     "metadata": {
      "needs_background": "light"
     },
     "output_type": "display_data"
    }
   ],
   "source": [
    "#plt.title(f'Experiment ID{}, Fish{n}, number of seconds near each stimulus')"
   ]
  }
 ],
 "metadata": {
  "kernelspec": {
   "display_name": "Python 3",
   "language": "python",
   "name": "python3"
  },
  "language_info": {
   "codemirror_mode": {
    "name": "ipython",
    "version": 3
   },
   "file_extension": ".py",
   "mimetype": "text/x-python",
   "name": "python",
   "nbconvert_exporter": "python",
   "pygments_lexer": "ipython3",
   "version": "3.8.8"
  }
 },
 "nbformat": 4,
 "nbformat_minor": 5
}
