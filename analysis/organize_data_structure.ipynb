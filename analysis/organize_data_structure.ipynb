{
 "cells": [
  {
   "cell_type": "markdown",
   "id": "e6ee7dd2",
   "metadata": {},
   "source": [
    "### Organizing folders"
   ]
  },
  {
   "cell_type": "code",
   "execution_count": 3,
   "id": "6bf5b8ff",
   "metadata": {},
   "outputs": [],
   "source": [
    "from pathlib import Path\n",
    "import re"
   ]
  },
  {
   "cell_type": "markdown",
   "id": "a5bf35d5",
   "metadata": {},
   "source": [
    "#### Changing name of metadata folder"
   ]
  },
  {
   "cell_type": "code",
   "execution_count": 3,
   "id": "0505a9c9",
   "metadata": {},
   "outputs": [],
   "source": [
    "metadata_folder = Path(r'\\\\cimec-storage5\\acn_lab\\shared_acn\\Matilde\\zebrafish\\biodi_experiment\\experiment_data\\renamed_metadata')\n",
    "video_folder = Path(r\"\\\\cimec-storage5\\acn_lab\\shared_acn\\Matilde\\zebrafish\\biodi_experiment\\experiment_data\\reorganized_video\")"
   ]
  },
  {
   "cell_type": "code",
   "execution_count": 197,
   "id": "e615a8ff",
   "metadata": {},
   "outputs": [],
   "source": [
    "list_of_names = [\n",
    "    'exp1_flock_random1', 'exp1_flock_random2', 'exp1_random1_random2', 'exp1_flock_random1',\n",
    "    'exp2_n3_speed3_6', 'exp2_n3_speed3_12', 'exp2_n3_speed12_6', 'exp2_n6_speed3_6', 'exp2_n6_speed3_12', 'exp2_n6_speed6_12',\n",
    "    'exp3_n3_speed6_n6_speed6', 'exp3_n3_speed12_n6_speed6', 'exp3_n3_speed6_n6_speed3', 'realfish_empty']\n",
    "\n",
    "modified_names = [name.replace('_', '-') for name in list_of_names]\n",
    "\n",
    "for path in video_folder.rglob('*'):\n",
    "    for name, new_name in zip(list_of_names, modified_names):\n",
    "        if name in path.name:\n",
    "            new_filename = path.name.replace(name,new_name)\n",
    "            path.rename(path.with_name(new_filename))"
   ]
  },
  {
   "cell_type": "code",
   "execution_count": 178,
   "id": "abee90eb",
   "metadata": {},
   "outputs": [],
   "source": [
    "list_of_names = [\n",
    "    'exp1_flock_random1', 'exp1_flock_random2', 'exp1_random1_random2', 'exp1_flock_random1',\n",
    "    'exp2_n3_speed3_6', 'exp2_n3_speed3_12', 'exp2_n3_speed12_6', 'exp2_n6_speed3_6', 'exp2_n6_speed3_12', 'exp2_n6_speed6_12',\n",
    "    'exp3_n3_speed6_n6_speed6', 'exp3_n3_speed12_n6_speed6', 'exp3_n3_speed6_n6_speed3', 'exp4_realfish_empty']\n",
    "\n",
    "modified_names = [name.replace('_', '-') for name in list_of_names]\n"
   ]
  },
  {
   "cell_type": "code",
   "execution_count": 19,
   "id": "067f0c06",
   "metadata": {
    "scrolled": true
   },
   "outputs": [],
   "source": [
    "#change video names\n",
    "for file in video_folder.rglob(\"*ID*\"):\n",
    "    if file.is_dir() and (int(file.stem[2:]) >48):\n",
    "        for video in file.glob('*avi'):\n",
    "            session, exp_group, exp_ID, date, minutes, sec = video.stem.split(\"_\")\n",
    "            date = date.replace('T', '-')\n",
    "            year, month, day, hour = date.split('-')\n",
    "            time = hour + minutes + sec\n",
    "            date = '-'.join([year, month, day, time])\n",
    "            new_name = '_'.join([date, exp_ID, exp_group, session])\n",
    "            new_videoname = video.name.replace(video.stem,new_name)\n",
    "            video.rename(video.with_name(new_videoname))"
   ]
  },
  {
   "cell_type": "code",
   "execution_count": 36,
   "id": "a9e28f59",
   "metadata": {},
   "outputs": [
    {
     "data": {
      "text/plain": [
       "['HAB', 'exp2-n3-speed3-12', 'ID38', '2023-08-10T14', '48', '27']"
      ]
     },
     "execution_count": 36,
     "metadata": {},
     "output_type": "execute_result"
    }
   ],
   "source": [
    "video.stem.split(\"_\")"
   ]
  },
  {
   "cell_type": "code",
   "execution_count": 18,
   "id": "9d7405d3",
   "metadata": {},
   "outputs": [
    {
     "name": "stdout",
     "output_type": "stream",
     "text": [
      "fish1_HAB_ID49_2023-08-13T19_32_09\n",
      "fish1_HAB_ID49_2023-08-13T20_10_57\n",
      "fish1_TEST_ID49_2023-08-13T19_37_09\n",
      "fish1_TEST_ID49_2023-08-13T20_15_57\n",
      "fish2_HAB_ID49_2023-08-13T19_32_09\n",
      "fish2_HAB_ID49_2023-08-13T20_10_57\n",
      "fish2_TEST_ID49_2023-08-13T19_37_09\n",
      "fish2_TEST_ID49_2023-08-13T20_15_57\n",
      "fish3_HAB_ID49_2023-08-13T19_32_09\n",
      "fish3_HAB_ID49_2023-08-13T20_10_57\n",
      "fish3_TEST_ID49_2023-08-13T19_37_09\n",
      "fish3_TEST_ID49_2023-08-13T20_15_57\n"
     ]
    }
   ],
   "source": [
    "#change tracking files names\n",
    "for file in video_folder.rglob(\"*ID*\"):\n",
    "    if file.is_dir() and (int(file.stem[2:]) > 48):\n",
    "        path = file / 'tracking'\n",
    "        for track_file in path.glob('*'):\n",
    "            print(track_file.stem)\n",
    "            fish , session, exp_ID, date, minutes, sec = track_file.stem.split('_')\n",
    "            date = date.replace('T', '-')\n",
    "            year, month, day, hour = date.split('-')\n",
    "            time = hour + minutes + sec\n",
    "            date = '-'.join([year, month, day, time])\n",
    "            new_name = '_'.join([date, exp_ID, fish, session])\n",
    "            new_filename = track_file.name.replace(track_file.stem,new_name)\n",
    "            track_file.rename(track_file.with_name(new_filename)) "
   ]
  },
  {
   "cell_type": "code",
   "execution_count": 93,
   "id": "214aedae",
   "metadata": {},
   "outputs": [],
   "source": [
    "#copy metadata file inside each video folder, so to have a structure which is date/ID_exp/metadata,tracking,video..\n",
    "for file in metadata_folder.rglob(\"*\"):\n",
    "    if file.is_dir():\n",
    "        continue\n",
    "    date, exp_ID, biodi, exp_group = file.stem.split(\"_\")\n",
    "    year, month, day, time = date.split('-')\n",
    "    #print(date[:-5])\n",
    "    \n",
    "    for folder in video_folder.glob('*'):\n",
    "        if date[:-5] == folder.stem: \n",
    "            new_folder = folder / exp_ID /'metadata'\n",
    "            new_folder.mkdir(parents=True)\n",
    "            file.replace(new_folder / file.name)\n",
    "            \n",
    "        "
   ]
  },
  {
   "cell_type": "markdown",
   "id": "f3dd0c25",
   "metadata": {},
   "source": [
    "#### Delete hidden files"
   ]
  },
  {
   "cell_type": "code",
   "execution_count": 35,
   "id": "5fc3fb9d",
   "metadata": {},
   "outputs": [],
   "source": [
    "# Specify the directory path to the folder containing the files\n",
    "folder_path = Path(r'F:\\biodi_project\\analysis_dlc\\video_analysis_network_3points')\n",
    "\n",
    "# List all files in the folder\n",
    "files_in_folder = folder_path.iterdir()\n",
    "\n",
    "# Iterate through the files and delete hidden files\n",
    "for file in files_in_folder:\n",
    "    if file.name.startswith('.'):\n",
    "        print(file.name)\n",
    "        #file.unlink()"
   ]
  },
  {
   "cell_type": "markdown",
   "id": "df260a76",
   "metadata": {},
   "source": [
    "#### Problems with numbers\n",
    "When you did something wrong with assigning the number to a video, then you can rename automatically counting from the right starting point. "
   ]
  },
  {
   "cell_type": "code",
   "execution_count": 57,
   "id": "606ce093",
   "metadata": {},
   "outputs": [
    {
     "data": {
      "text/plain": [
       "'2023-10-06-164906_ID55_exp2-n6-speed3-6_HAB_fish152DLC_resnet50_biodi_zebrafish_august2023Aug9shuffle1_1030000.csv'"
      ]
     },
     "execution_count": 57,
     "metadata": {},
     "output_type": "execute_result"
    }
   ],
   "source": [
    "video.name"
   ]
  },
  {
   "cell_type": "code",
   "execution_count": 65,
   "id": "89783423",
   "metadata": {},
   "outputs": [
    {
     "name": "stdout",
     "output_type": "stream",
     "text": [
      "F:\\biodi_project\\analysis_dlc\\video_analysis_network_3points\\2023-10-06-164906_ID55_exp2-n6-speed3-6_HAB_fish152DLC_resnet50_biodi_zebrafish_august2023Aug9shuffle1_1030000_meta.pickle\n",
      "2023-10-06-164906_ID55_exp2-n6-speed3-6_HAB_fish152DLC_resnet50_biodi_zebrafish_august2023Aug9shuffle1_1030000_meta.pickle\n",
      "2023-10-06-164906_ID55_exp2-n6-speed3-6_HAB_fish155\n",
      "F:\\biodi_project\\analysis_dlc\\video_analysis_network_3points\\2023-10-06-164906_ID55_exp2-n6-speed3-6_HAB_fish155DLC_resnet50_biodi_zebrafish_august2023Aug9shuffle1_1030000_meta.pickle\n",
      "\n",
      "F:\\biodi_project\\analysis_dlc\\video_analysis_network_3points\\2023-10-06-164906_ID55_exp2-n6-speed3-6_HAB_fish153DLC_resnet50_biodi_zebrafish_august2023Aug9shuffle1_1030000_meta.pickle\n",
      "2023-10-06-164906_ID55_exp2-n6-speed3-6_HAB_fish153DLC_resnet50_biodi_zebrafish_august2023Aug9shuffle1_1030000_meta.pickle\n",
      "2023-10-06-164906_ID55_exp2-n6-speed3-6_HAB_fish156\n",
      "F:\\biodi_project\\analysis_dlc\\video_analysis_network_3points\\2023-10-06-164906_ID55_exp2-n6-speed3-6_HAB_fish156DLC_resnet50_biodi_zebrafish_august2023Aug9shuffle1_1030000_meta.pickle\n",
      "\n",
      "F:\\biodi_project\\analysis_dlc\\video_analysis_network_3points\\2023-10-06-164906_ID55_exp2-n6-speed3-6_HAB_fish154DLC_resnet50_biodi_zebrafish_august2023Aug9shuffle1_1030000_meta.pickle\n",
      "2023-10-06-164906_ID55_exp2-n6-speed3-6_HAB_fish154DLC_resnet50_biodi_zebrafish_august2023Aug9shuffle1_1030000_meta.pickle\n",
      "2023-10-06-164906_ID55_exp2-n6-speed3-6_HAB_fish157\n",
      "F:\\biodi_project\\analysis_dlc\\video_analysis_network_3points\\2023-10-06-164906_ID55_exp2-n6-speed3-6_HAB_fish157DLC_resnet50_biodi_zebrafish_august2023Aug9shuffle1_1030000_meta.pickle\n",
      "\n",
      "F:\\biodi_project\\analysis_dlc\\video_analysis_network_3points\\2023-10-06-165406_ID55_exp2-n6-speed3-6_TEST_fish152DLC_resnet50_biodi_zebrafish_august2023Aug9shuffle1_1030000_meta.pickle\n",
      "2023-10-06-165406_ID55_exp2-n6-speed3-6_TEST_fish152DLC_resnet50_biodi_zebrafish_august2023Aug9shuffle1_1030000_meta.pickle\n",
      "2023-10-06-165406_ID55_exp2-n6-speed3-6_TEST_fish155\n",
      "F:\\biodi_project\\analysis_dlc\\video_analysis_network_3points\\2023-10-06-165406_ID55_exp2-n6-speed3-6_TEST_fish155DLC_resnet50_biodi_zebrafish_august2023Aug9shuffle1_1030000_meta.pickle\n",
      "\n",
      "F:\\biodi_project\\analysis_dlc\\video_analysis_network_3points\\2023-10-06-165406_ID55_exp2-n6-speed3-6_TEST_fish153DLC_resnet50_biodi_zebrafish_august2023Aug9shuffle1_1030000_meta.pickle\n",
      "2023-10-06-165406_ID55_exp2-n6-speed3-6_TEST_fish153DLC_resnet50_biodi_zebrafish_august2023Aug9shuffle1_1030000_meta.pickle\n",
      "2023-10-06-165406_ID55_exp2-n6-speed3-6_TEST_fish156\n",
      "F:\\biodi_project\\analysis_dlc\\video_analysis_network_3points\\2023-10-06-165406_ID55_exp2-n6-speed3-6_TEST_fish156DLC_resnet50_biodi_zebrafish_august2023Aug9shuffle1_1030000_meta.pickle\n",
      "\n",
      "F:\\biodi_project\\analysis_dlc\\video_analysis_network_3points\\2023-10-06-165406_ID55_exp2-n6-speed3-6_TEST_fish154DLC_resnet50_biodi_zebrafish_august2023Aug9shuffle1_1030000_meta.pickle\n",
      "2023-10-06-165406_ID55_exp2-n6-speed3-6_TEST_fish154DLC_resnet50_biodi_zebrafish_august2023Aug9shuffle1_1030000_meta.pickle\n",
      "2023-10-06-165406_ID55_exp2-n6-speed3-6_TEST_fish157\n",
      "F:\\biodi_project\\analysis_dlc\\video_analysis_network_3points\\2023-10-06-165406_ID55_exp2-n6-speed3-6_TEST_fish157DLC_resnet50_biodi_zebrafish_august2023Aug9shuffle1_1030000_meta.pickle\n",
      "\n",
      "F:\\biodi_project\\analysis_dlc\\video_analysis_network_3points\\2023-10-06-173431_ID56_exp2-n3-speed3-6_HAB_fish155DLC_resnet50_biodi_zebrafish_august2023Aug9shuffle1_1030000_meta.pickle\n",
      "2023-10-06-173431_ID56_exp2-n3-speed3-6_HAB_fish155DLC_resnet50_biodi_zebrafish_august2023Aug9shuffle1_1030000_meta.pickle\n",
      "2023-10-06-173431_ID56_exp2-n3-speed3-6_HAB_fish158\n",
      "F:\\biodi_project\\analysis_dlc\\video_analysis_network_3points\\2023-10-06-173431_ID56_exp2-n3-speed3-6_HAB_fish158DLC_resnet50_biodi_zebrafish_august2023Aug9shuffle1_1030000_meta.pickle\n",
      "\n",
      "F:\\biodi_project\\analysis_dlc\\video_analysis_network_3points\\2023-10-06-173431_ID56_exp2-n3-speed3-6_HAB_fish156DLC_resnet50_biodi_zebrafish_august2023Aug9shuffle1_1030000_meta.pickle\n",
      "2023-10-06-173431_ID56_exp2-n3-speed3-6_HAB_fish156DLC_resnet50_biodi_zebrafish_august2023Aug9shuffle1_1030000_meta.pickle\n",
      "2023-10-06-173431_ID56_exp2-n3-speed3-6_HAB_fish159\n",
      "F:\\biodi_project\\analysis_dlc\\video_analysis_network_3points\\2023-10-06-173431_ID56_exp2-n3-speed3-6_HAB_fish159DLC_resnet50_biodi_zebrafish_august2023Aug9shuffle1_1030000_meta.pickle\n",
      "\n",
      "F:\\biodi_project\\analysis_dlc\\video_analysis_network_3points\\2023-10-06-173431_ID56_exp2-n3-speed3-6_HAB_fish157DLC_resnet50_biodi_zebrafish_august2023Aug9shuffle1_1030000_meta.pickle\n",
      "2023-10-06-173431_ID56_exp2-n3-speed3-6_HAB_fish157DLC_resnet50_biodi_zebrafish_august2023Aug9shuffle1_1030000_meta.pickle\n",
      "2023-10-06-173431_ID56_exp2-n3-speed3-6_HAB_fish160\n",
      "F:\\biodi_project\\analysis_dlc\\video_analysis_network_3points\\2023-10-06-173431_ID56_exp2-n3-speed3-6_HAB_fish160DLC_resnet50_biodi_zebrafish_august2023Aug9shuffle1_1030000_meta.pickle\n",
      "\n",
      "F:\\biodi_project\\analysis_dlc\\video_analysis_network_3points\\2023-10-06-173931_ID56_exp2-n3-speed3-6_TEST_fish155DLC_resnet50_biodi_zebrafish_august2023Aug9shuffle1_1030000_meta.pickle\n",
      "2023-10-06-173931_ID56_exp2-n3-speed3-6_TEST_fish155DLC_resnet50_biodi_zebrafish_august2023Aug9shuffle1_1030000_meta.pickle\n",
      "2023-10-06-173931_ID56_exp2-n3-speed3-6_TEST_fish158\n",
      "F:\\biodi_project\\analysis_dlc\\video_analysis_network_3points\\2023-10-06-173931_ID56_exp2-n3-speed3-6_TEST_fish158DLC_resnet50_biodi_zebrafish_august2023Aug9shuffle1_1030000_meta.pickle\n",
      "\n",
      "F:\\biodi_project\\analysis_dlc\\video_analysis_network_3points\\2023-10-06-173931_ID56_exp2-n3-speed3-6_TEST_fish156DLC_resnet50_biodi_zebrafish_august2023Aug9shuffle1_1030000_meta.pickle\n",
      "2023-10-06-173931_ID56_exp2-n3-speed3-6_TEST_fish156DLC_resnet50_biodi_zebrafish_august2023Aug9shuffle1_1030000_meta.pickle\n",
      "2023-10-06-173931_ID56_exp2-n3-speed3-6_TEST_fish159\n",
      "F:\\biodi_project\\analysis_dlc\\video_analysis_network_3points\\2023-10-06-173931_ID56_exp2-n3-speed3-6_TEST_fish159DLC_resnet50_biodi_zebrafish_august2023Aug9shuffle1_1030000_meta.pickle\n",
      "\n",
      "F:\\biodi_project\\analysis_dlc\\video_analysis_network_3points\\2023-10-06-173931_ID56_exp2-n3-speed3-6_TEST_fish157DLC_resnet50_biodi_zebrafish_august2023Aug9shuffle1_1030000_meta.pickle\n",
      "2023-10-06-173931_ID56_exp2-n3-speed3-6_TEST_fish157DLC_resnet50_biodi_zebrafish_august2023Aug9shuffle1_1030000_meta.pickle\n",
      "2023-10-06-173931_ID56_exp2-n3-speed3-6_TEST_fish160\n",
      "F:\\biodi_project\\analysis_dlc\\video_analysis_network_3points\\2023-10-06-173931_ID56_exp2-n3-speed3-6_TEST_fish160DLC_resnet50_biodi_zebrafish_august2023Aug9shuffle1_1030000_meta.pickle\n",
      "\n",
      "F:\\biodi_project\\analysis_dlc\\video_analysis_network_3points\\2023-10-06-181727_ID57_exp2-n3-speed6-12_HAB_fish158DLC_resnet50_biodi_zebrafish_august2023Aug9shuffle1_1030000_meta.pickle\n",
      "2023-10-06-181727_ID57_exp2-n3-speed6-12_HAB_fish158DLC_resnet50_biodi_zebrafish_august2023Aug9shuffle1_1030000_meta.pickle\n",
      "2023-10-06-181727_ID57_exp2-n3-speed6-12_HAB_fish161\n",
      "F:\\biodi_project\\analysis_dlc\\video_analysis_network_3points\\2023-10-06-181727_ID57_exp2-n3-speed6-12_HAB_fish161DLC_resnet50_biodi_zebrafish_august2023Aug9shuffle1_1030000_meta.pickle\n",
      "\n",
      "F:\\biodi_project\\analysis_dlc\\video_analysis_network_3points\\2023-10-06-181727_ID57_exp2-n3-speed6-12_HAB_fish159DLC_resnet50_biodi_zebrafish_august2023Aug9shuffle1_1030000_meta.pickle\n",
      "2023-10-06-181727_ID57_exp2-n3-speed6-12_HAB_fish159DLC_resnet50_biodi_zebrafish_august2023Aug9shuffle1_1030000_meta.pickle\n",
      "2023-10-06-181727_ID57_exp2-n3-speed6-12_HAB_fish162\n",
      "F:\\biodi_project\\analysis_dlc\\video_analysis_network_3points\\2023-10-06-181727_ID57_exp2-n3-speed6-12_HAB_fish162DLC_resnet50_biodi_zebrafish_august2023Aug9shuffle1_1030000_meta.pickle\n",
      "\n",
      "F:\\biodi_project\\analysis_dlc\\video_analysis_network_3points\\2023-10-06-182227_ID57_exp2-n3-speed6-12_TEST_fish158DLC_resnet50_biodi_zebrafish_august2023Aug9shuffle1_1030000_meta.pickle\n",
      "2023-10-06-182227_ID57_exp2-n3-speed6-12_TEST_fish158DLC_resnet50_biodi_zebrafish_august2023Aug9shuffle1_1030000_meta.pickle\n",
      "2023-10-06-182227_ID57_exp2-n3-speed6-12_TEST_fish161\n",
      "F:\\biodi_project\\analysis_dlc\\video_analysis_network_3points\\2023-10-06-182227_ID57_exp2-n3-speed6-12_TEST_fish161DLC_resnet50_biodi_zebrafish_august2023Aug9shuffle1_1030000_meta.pickle\n",
      "\n",
      "F:\\biodi_project\\analysis_dlc\\video_analysis_network_3points\\2023-10-06-182227_ID57_exp2-n3-speed6-12_TEST_fish159DLC_resnet50_biodi_zebrafish_august2023Aug9shuffle1_1030000_meta.pickle\n",
      "2023-10-06-182227_ID57_exp2-n3-speed6-12_TEST_fish159DLC_resnet50_biodi_zebrafish_august2023Aug9shuffle1_1030000_meta.pickle\n",
      "2023-10-06-182227_ID57_exp2-n3-speed6-12_TEST_fish162\n",
      "F:\\biodi_project\\analysis_dlc\\video_analysis_network_3points\\2023-10-06-182227_ID57_exp2-n3-speed6-12_TEST_fish162DLC_resnet50_biodi_zebrafish_august2023Aug9shuffle1_1030000_meta.pickle\n",
      "\n",
      "F:\\biodi_project\\analysis_dlc\\video_analysis_network_3points\\2023-10-18-165317_ID58_exp2-n6-speed3-6_HAB_fish160DLC_resnet50_biodi_zebrafish_august2023Aug9shuffle1_1030000_meta.pickle\n",
      "2023-10-18-165317_ID58_exp2-n6-speed3-6_HAB_fish160DLC_resnet50_biodi_zebrafish_august2023Aug9shuffle1_1030000_meta.pickle\n",
      "2023-10-18-165317_ID58_exp2-n6-speed3-6_HAB_fish163\n",
      "F:\\biodi_project\\analysis_dlc\\video_analysis_network_3points\\2023-10-18-165317_ID58_exp2-n6-speed3-6_HAB_fish163DLC_resnet50_biodi_zebrafish_august2023Aug9shuffle1_1030000_meta.pickle\n",
      "\n",
      "F:\\biodi_project\\analysis_dlc\\video_analysis_network_3points\\2023-10-18-165317_ID58_exp2-n6-speed3-6_HAB_fish161DLC_resnet50_biodi_zebrafish_august2023Aug9shuffle1_1030000_meta.pickle\n",
      "2023-10-18-165317_ID58_exp2-n6-speed3-6_HAB_fish161DLC_resnet50_biodi_zebrafish_august2023Aug9shuffle1_1030000_meta.pickle\n",
      "2023-10-18-165317_ID58_exp2-n6-speed3-6_HAB_fish164\n",
      "F:\\biodi_project\\analysis_dlc\\video_analysis_network_3points\\2023-10-18-165317_ID58_exp2-n6-speed3-6_HAB_fish164DLC_resnet50_biodi_zebrafish_august2023Aug9shuffle1_1030000_meta.pickle\n",
      "\n",
      "F:\\biodi_project\\analysis_dlc\\video_analysis_network_3points\\2023-10-18-165317_ID58_exp2-n6-speed3-6_HAB_fish162DLC_resnet50_biodi_zebrafish_august2023Aug9shuffle1_1030000_meta.pickle\n",
      "2023-10-18-165317_ID58_exp2-n6-speed3-6_HAB_fish162DLC_resnet50_biodi_zebrafish_august2023Aug9shuffle1_1030000_meta.pickle\n",
      "2023-10-18-165317_ID58_exp2-n6-speed3-6_HAB_fish165\n",
      "F:\\biodi_project\\analysis_dlc\\video_analysis_network_3points\\2023-10-18-165317_ID58_exp2-n6-speed3-6_HAB_fish165DLC_resnet50_biodi_zebrafish_august2023Aug9shuffle1_1030000_meta.pickle\n",
      "\n",
      "F:\\biodi_project\\analysis_dlc\\video_analysis_network_3points\\2023-10-18-165817_ID58_exp2-n6-speed3-6_TEST_fish160DLC_resnet50_biodi_zebrafish_august2023Aug9shuffle1_1030000_meta.pickle\n",
      "2023-10-18-165817_ID58_exp2-n6-speed3-6_TEST_fish160DLC_resnet50_biodi_zebrafish_august2023Aug9shuffle1_1030000_meta.pickle\n",
      "2023-10-18-165817_ID58_exp2-n6-speed3-6_TEST_fish163\n",
      "F:\\biodi_project\\analysis_dlc\\video_analysis_network_3points\\2023-10-18-165817_ID58_exp2-n6-speed3-6_TEST_fish163DLC_resnet50_biodi_zebrafish_august2023Aug9shuffle1_1030000_meta.pickle\n",
      "\n",
      "F:\\biodi_project\\analysis_dlc\\video_analysis_network_3points\\2023-10-18-165817_ID58_exp2-n6-speed3-6_TEST_fish161DLC_resnet50_biodi_zebrafish_august2023Aug9shuffle1_1030000_meta.pickle\n",
      "2023-10-18-165817_ID58_exp2-n6-speed3-6_TEST_fish161DLC_resnet50_biodi_zebrafish_august2023Aug9shuffle1_1030000_meta.pickle\n",
      "2023-10-18-165817_ID58_exp2-n6-speed3-6_TEST_fish164\n",
      "F:\\biodi_project\\analysis_dlc\\video_analysis_network_3points\\2023-10-18-165817_ID58_exp2-n6-speed3-6_TEST_fish164DLC_resnet50_biodi_zebrafish_august2023Aug9shuffle1_1030000_meta.pickle\n",
      "\n",
      "F:\\biodi_project\\analysis_dlc\\video_analysis_network_3points\\2023-10-18-165817_ID58_exp2-n6-speed3-6_TEST_fish162DLC_resnet50_biodi_zebrafish_august2023Aug9shuffle1_1030000_meta.pickle\n",
      "2023-10-18-165817_ID58_exp2-n6-speed3-6_TEST_fish162DLC_resnet50_biodi_zebrafish_august2023Aug9shuffle1_1030000_meta.pickle\n",
      "2023-10-18-165817_ID58_exp2-n6-speed3-6_TEST_fish165\n",
      "F:\\biodi_project\\analysis_dlc\\video_analysis_network_3points\\2023-10-18-165817_ID58_exp2-n6-speed3-6_TEST_fish165DLC_resnet50_biodi_zebrafish_august2023Aug9shuffle1_1030000_meta.pickle\n",
      "\n",
      "F:\\biodi_project\\analysis_dlc\\video_analysis_network_3points\\2023-10-18-173755_ID59_exp2-n3-speed3-12_HAB_fish163DLC_resnet50_biodi_zebrafish_august2023Aug9shuffle1_1030000_meta.pickle\n",
      "2023-10-18-173755_ID59_exp2-n3-speed3-12_HAB_fish163DLC_resnet50_biodi_zebrafish_august2023Aug9shuffle1_1030000_meta.pickle\n",
      "2023-10-18-173755_ID59_exp2-n3-speed3-12_HAB_fish166\n",
      "F:\\biodi_project\\analysis_dlc\\video_analysis_network_3points\\2023-10-18-173755_ID59_exp2-n3-speed3-12_HAB_fish166DLC_resnet50_biodi_zebrafish_august2023Aug9shuffle1_1030000_meta.pickle\n",
      "\n",
      "F:\\biodi_project\\analysis_dlc\\video_analysis_network_3points\\2023-10-18-173755_ID59_exp2-n3-speed3-12_HAB_fish164DLC_resnet50_biodi_zebrafish_august2023Aug9shuffle1_1030000_meta.pickle\n",
      "2023-10-18-173755_ID59_exp2-n3-speed3-12_HAB_fish164DLC_resnet50_biodi_zebrafish_august2023Aug9shuffle1_1030000_meta.pickle\n",
      "2023-10-18-173755_ID59_exp2-n3-speed3-12_HAB_fish167\n",
      "F:\\biodi_project\\analysis_dlc\\video_analysis_network_3points\\2023-10-18-173755_ID59_exp2-n3-speed3-12_HAB_fish167DLC_resnet50_biodi_zebrafish_august2023Aug9shuffle1_1030000_meta.pickle\n",
      "\n",
      "F:\\biodi_project\\analysis_dlc\\video_analysis_network_3points\\2023-10-18-173755_ID59_exp2-n3-speed3-12_HAB_fish165DLC_resnet50_biodi_zebrafish_august2023Aug9shuffle1_1030000_meta.pickle\n",
      "2023-10-18-173755_ID59_exp2-n3-speed3-12_HAB_fish165DLC_resnet50_biodi_zebrafish_august2023Aug9shuffle1_1030000_meta.pickle\n",
      "2023-10-18-173755_ID59_exp2-n3-speed3-12_HAB_fish168\n",
      "F:\\biodi_project\\analysis_dlc\\video_analysis_network_3points\\2023-10-18-173755_ID59_exp2-n3-speed3-12_HAB_fish168DLC_resnet50_biodi_zebrafish_august2023Aug9shuffle1_1030000_meta.pickle\n",
      "\n",
      "F:\\biodi_project\\analysis_dlc\\video_analysis_network_3points\\2023-10-18-174255_ID59_exp2-n3-speed3-12_TEST_fish163DLC_resnet50_biodi_zebrafish_august2023Aug9shuffle1_1030000_meta.pickle\n",
      "2023-10-18-174255_ID59_exp2-n3-speed3-12_TEST_fish163DLC_resnet50_biodi_zebrafish_august2023Aug9shuffle1_1030000_meta.pickle\n",
      "2023-10-18-174255_ID59_exp2-n3-speed3-12_TEST_fish166\n",
      "F:\\biodi_project\\analysis_dlc\\video_analysis_network_3points\\2023-10-18-174255_ID59_exp2-n3-speed3-12_TEST_fish166DLC_resnet50_biodi_zebrafish_august2023Aug9shuffle1_1030000_meta.pickle\n",
      "\n",
      "F:\\biodi_project\\analysis_dlc\\video_analysis_network_3points\\2023-10-18-174255_ID59_exp2-n3-speed3-12_TEST_fish164DLC_resnet50_biodi_zebrafish_august2023Aug9shuffle1_1030000_meta.pickle\n",
      "2023-10-18-174255_ID59_exp2-n3-speed3-12_TEST_fish164DLC_resnet50_biodi_zebrafish_august2023Aug9shuffle1_1030000_meta.pickle\n",
      "2023-10-18-174255_ID59_exp2-n3-speed3-12_TEST_fish167\n",
      "F:\\biodi_project\\analysis_dlc\\video_analysis_network_3points\\2023-10-18-174255_ID59_exp2-n3-speed3-12_TEST_fish167DLC_resnet50_biodi_zebrafish_august2023Aug9shuffle1_1030000_meta.pickle\n",
      "\n",
      "F:\\biodi_project\\analysis_dlc\\video_analysis_network_3points\\2023-10-18-174255_ID59_exp2-n3-speed3-12_TEST_fish165DLC_resnet50_biodi_zebrafish_august2023Aug9shuffle1_1030000_meta.pickle\n",
      "2023-10-18-174255_ID59_exp2-n3-speed3-12_TEST_fish165DLC_resnet50_biodi_zebrafish_august2023Aug9shuffle1_1030000_meta.pickle\n",
      "2023-10-18-174255_ID59_exp2-n3-speed3-12_TEST_fish168\n",
      "F:\\biodi_project\\analysis_dlc\\video_analysis_network_3points\\2023-10-18-174255_ID59_exp2-n3-speed3-12_TEST_fish168DLC_resnet50_biodi_zebrafish_august2023Aug9shuffle1_1030000_meta.pickle\n",
      "\n",
      "F:\\biodi_project\\analysis_dlc\\video_analysis_network_3points\\2023-10-18-181812_ID60_exp3-n3-speed6-n6-speed3_HAB_fish166DLC_resnet50_biodi_zebrafish_august2023Aug9shuffle1_1030000_meta.pickle\n",
      "2023-10-18-181812_ID60_exp3-n3-speed6-n6-speed3_HAB_fish166DLC_resnet50_biodi_zebrafish_august2023Aug9shuffle1_1030000_meta.pickle\n",
      "2023-10-18-181812_ID60_exp3-n3-speed6-n6-speed3_HAB_fish169\n",
      "F:\\biodi_project\\analysis_dlc\\video_analysis_network_3points\\2023-10-18-181812_ID60_exp3-n3-speed6-n6-speed3_HAB_fish169DLC_resnet50_biodi_zebrafish_august2023Aug9shuffle1_1030000_meta.pickle\n",
      "\n",
      "F:\\biodi_project\\analysis_dlc\\video_analysis_network_3points\\2023-10-18-181812_ID60_exp3-n3-speed6-n6-speed3_HAB_fish167DLC_resnet50_biodi_zebrafish_august2023Aug9shuffle1_1030000_meta.pickle\n",
      "2023-10-18-181812_ID60_exp3-n3-speed6-n6-speed3_HAB_fish167DLC_resnet50_biodi_zebrafish_august2023Aug9shuffle1_1030000_meta.pickle\n",
      "2023-10-18-181812_ID60_exp3-n3-speed6-n6-speed3_HAB_fish170\n",
      "F:\\biodi_project\\analysis_dlc\\video_analysis_network_3points\\2023-10-18-181812_ID60_exp3-n3-speed6-n6-speed3_HAB_fish170DLC_resnet50_biodi_zebrafish_august2023Aug9shuffle1_1030000_meta.pickle\n",
      "\n",
      "F:\\biodi_project\\analysis_dlc\\video_analysis_network_3points\\2023-10-18-181812_ID60_exp3-n3-speed6-n6-speed3_HAB_fish168DLC_resnet50_biodi_zebrafish_august2023Aug9shuffle1_1030000_meta.pickle\n",
      "2023-10-18-181812_ID60_exp3-n3-speed6-n6-speed3_HAB_fish168DLC_resnet50_biodi_zebrafish_august2023Aug9shuffle1_1030000_meta.pickle\n",
      "2023-10-18-181812_ID60_exp3-n3-speed6-n6-speed3_HAB_fish171\n",
      "F:\\biodi_project\\analysis_dlc\\video_analysis_network_3points\\2023-10-18-181812_ID60_exp3-n3-speed6-n6-speed3_HAB_fish171DLC_resnet50_biodi_zebrafish_august2023Aug9shuffle1_1030000_meta.pickle\n",
      "\n",
      "F:\\biodi_project\\analysis_dlc\\video_analysis_network_3points\\2023-10-18-182312_ID60_exp3-n3-speed6-n6-speed3_TEST_fish166DLC_resnet50_biodi_zebrafish_august2023Aug9shuffle1_1030000_meta.pickle\n",
      "2023-10-18-182312_ID60_exp3-n3-speed6-n6-speed3_TEST_fish166DLC_resnet50_biodi_zebrafish_august2023Aug9shuffle1_1030000_meta.pickle\n",
      "2023-10-18-182312_ID60_exp3-n3-speed6-n6-speed3_TEST_fish169\n",
      "F:\\biodi_project\\analysis_dlc\\video_analysis_network_3points\\2023-10-18-182312_ID60_exp3-n3-speed6-n6-speed3_TEST_fish169DLC_resnet50_biodi_zebrafish_august2023Aug9shuffle1_1030000_meta.pickle\n",
      "\n",
      "F:\\biodi_project\\analysis_dlc\\video_analysis_network_3points\\2023-10-18-182312_ID60_exp3-n3-speed6-n6-speed3_TEST_fish167DLC_resnet50_biodi_zebrafish_august2023Aug9shuffle1_1030000_meta.pickle\n",
      "2023-10-18-182312_ID60_exp3-n3-speed6-n6-speed3_TEST_fish167DLC_resnet50_biodi_zebrafish_august2023Aug9shuffle1_1030000_meta.pickle\n",
      "2023-10-18-182312_ID60_exp3-n3-speed6-n6-speed3_TEST_fish170\n",
      "F:\\biodi_project\\analysis_dlc\\video_analysis_network_3points\\2023-10-18-182312_ID60_exp3-n3-speed6-n6-speed3_TEST_fish170DLC_resnet50_biodi_zebrafish_august2023Aug9shuffle1_1030000_meta.pickle\n",
      "\n",
      "F:\\biodi_project\\analysis_dlc\\video_analysis_network_3points\\2023-10-18-182312_ID60_exp3-n3-speed6-n6-speed3_TEST_fish168DLC_resnet50_biodi_zebrafish_august2023Aug9shuffle1_1030000_meta.pickle\n",
      "2023-10-18-182312_ID60_exp3-n3-speed6-n6-speed3_TEST_fish168DLC_resnet50_biodi_zebrafish_august2023Aug9shuffle1_1030000_meta.pickle\n",
      "2023-10-18-182312_ID60_exp3-n3-speed6-n6-speed3_TEST_fish171\n",
      "F:\\biodi_project\\analysis_dlc\\video_analysis_network_3points\\2023-10-18-182312_ID60_exp3-n3-speed6-n6-speed3_TEST_fish171DLC_resnet50_biodi_zebrafish_august2023Aug9shuffle1_1030000_meta.pickle\n",
      "\n"
     ]
    }
   ],
   "source": [
    "folder_path = Path(r'F:\\biodi_project\\analysis_dlc\\video_analysis_network_3points')\n",
    "\n",
    "for video in sorted(folder_path.glob('*.pickle*')):\n",
    "    exp_id = int(video.stem.split('_')[1].replace('ID', ''))\n",
    "    if exp_id > 54:\n",
    "        old_name = video.name\n",
    "        print(video)\n",
    "        print(old_name)\n",
    "        \n",
    "        date, exp_ID, exp_group, session, fish_ID, _, _, _, _, _, _ = video.stem.split('_')\n",
    "        fish_ID = fish_ID.replace('DLC', '')\n",
    "        number = int(fish_ID.replace('fish', ''))\n",
    "        old_video_name = '_'.join([date, exp_ID, exp_group, session]) + '_fish' + str(number)\n",
    "        \n",
    "        new_number = number + 3\n",
    "        new_fish_ID = 'fish' + str(new_number)\n",
    "        new_name = '_'.join([date, exp_ID, exp_group, session, new_fish_ID])\n",
    "        \n",
    "        new_file = video.name.replace(old_video_name, new_name)\n",
    "        new_path = video.parent / new_file\n",
    "        \n",
    "        #video.rename(new_path)\n",
    "        print(new_name)\n",
    "        print(new_path)\n",
    "        print(        )\n",
    "        \n"
   ]
  },
  {
   "cell_type": "code",
   "execution_count": null,
   "id": "0cf660eb",
   "metadata": {},
   "outputs": [],
   "source": [
    "folder_path = Path(r'F:\\biodi_project\\experiment_data\\organized_video\\cropped_data')\n",
    "\n",
    "old_name = file_path.name\n",
    "    \n",
    "# Define your renaming logic here\n",
    "new_name = 'new_prefix_' + old_name  # Example: add a prefix\n",
    "    \n",
    " # Rename the file\n",
    "new_path = file_path.with_name(new_name)\n",
    "file_path.rename(new_path)\n",
    "\n",
    "# List video files in the folder based on extensions\n",
    "video_files = folder_path.glob('*.mp4') + folder_path.glob('*.avi')\n",
    "\n",
    "# Iterate through the list of video files and rename them\n",
    "for video_file in video_files:\n",
    "    rename_video_files(video_file)"
   ]
  }
 ],
 "metadata": {
  "kernelspec": {
   "display_name": "Python 3",
   "language": "python",
   "name": "python3"
  },
  "language_info": {
   "codemirror_mode": {
    "name": "ipython",
    "version": 3
   },
   "file_extension": ".py",
   "mimetype": "text/x-python",
   "name": "python",
   "nbconvert_exporter": "python",
   "pygments_lexer": "ipython3",
   "version": "3.8.8"
  }
 },
 "nbformat": 4,
 "nbformat_minor": 5
}
