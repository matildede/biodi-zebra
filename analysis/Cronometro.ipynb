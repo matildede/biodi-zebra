{
 "cells": [
  {
   "cell_type": "code",
   "execution_count": 37,
   "id": "c1601fe9",
   "metadata": {},
   "outputs": [],
   "source": [
    "import cv2\n",
    "import pandas as pd\n",
    "import time\n",
    "from pathlib import Path\n",
    "import numpy as np"
   ]
  },
  {
   "cell_type": "code",
   "execution_count": 38,
   "id": "7c7e7685",
   "metadata": {},
   "outputs": [],
   "source": [
    "folder_path = r'\\\\cimec-storage5\\acn_lab\\shared_acn\\Matilde\\zebrafish\\social_preference'\n",
    "video_name = 'fish1_hab_socialpreference_2023-11-07T17_51_17'\n",
    "video_path = folder_path + fr\"\\{video_name}\" + '.avi'"
   ]
  },
  {
   "cell_type": "code",
   "execution_count": 39,
   "id": "dbe1b313",
   "metadata": {},
   "outputs": [],
   "source": [
    "# Create a VideoCapture object\n",
    "cap = cv2.VideoCapture(video_path)  # replace 'your_video.mp4' with your video file\n",
    "\n",
    "# Get the video properties\n",
    "fps = cap.get(cv2.CAP_PROP_FPS)\n",
    "total_frames = int(cap.get(cv2.CAP_PROP_FRAME_COUNT))\n",
    "\n",
    "# Create a window and set the callback for mouse events\n",
    "# callback function for mouse events is a function that gets executed \n",
    "# when a mouse-related action occurs within a specified window\n",
    "\n",
    "# Set the desired playback speed (e.g., 15fps)\n",
    "desired_fps = 90\n",
    "frame_delay = int(1000 / desired_fps)\n",
    "\n",
    "# Initialize variables\n",
    "paused = False\n",
    "\n",
    "frames = np.arange(0, total_frames)\n",
    "position_fish = ['False'] * len(frames)\n",
    "fish_data = {'frame': frames, 'fish_inside_area': position_fish}\n",
    "inside_area = False  # Initial state"
   ]
  },
  {
   "cell_type": "code",
   "execution_count": 40,
   "id": "8f3a1361",
   "metadata": {},
   "outputs": [],
   "source": [
    "# Function to draw a line and collect points\n",
    "def draw_line(event, x, y, flags, param):\n",
    "    global points_line1\n",
    "    if event == cv2.EVENT_LBUTTONDOWN:\n",
    "        points_line1.append((x, y))\n",
    "        if len(points_line1) > 1:\n",
    "            cv2.line(img, points_line1[-2], points_line1[-1], (0, 0, 255), 2)  # Draw line1 in red\n",
    "            cv2.imshow('Draw Lines', img)"
   ]
  },
  {
   "cell_type": "code",
   "execution_count": 41,
   "id": "746f4971",
   "metadata": {},
   "outputs": [],
   "source": [
    "# Open the video capture object\n",
    "cap = cv2.VideoCapture(video_path)  # replace 'your_video.mp4' with your video file\n",
    "ret, img = cap.read()\n",
    "\n",
    "# Create a window and set the callback for mouse events\n",
    "cv2.namedWindow('Draw Lines')\n",
    "points_line1 = []\n",
    "cv2.setMouseCallback('Draw Lines', draw_line)\n",
    "\n",
    "# Draw the first line (line1) on the first frame\n",
    "while True:\n",
    "    cv2.imshow('Draw Lines', img)\n",
    "    key = cv2.waitKey(0)\n",
    "    if key == 27:# Press 'Esc' key or draw at least 2 points to exit\n",
    "        break\n",
    "    elif key == ord('c'):\n",
    "        points_line1 = []\n",
    "        img = cap.read()[1]\n",
    "        print(key)\n",
    "        \n",
    "cv2.destroyAllWindows()"
   ]
  },
  {
   "cell_type": "code",
   "execution_count": 46,
   "id": "7883c849",
   "metadata": {},
   "outputs": [],
   "source": [
    "#Draw coordinates for line 2\n",
    "\n",
    "midpoint_line1 = ((points_line1[0][0] + points_line1[1][0]) // 2, (points_line1[0][1] + points_line1[1][1]) // 2) # Calculate the midpoint of line1\n",
    "slope_line1 = (points_line1[1][1] - points_line1[0][1]) / (points_line1[1][0] - points_line1[0][0]) # Calculate the slope of line1\n",
    "slope_line2 = -1 / slope_line1 # Calculate the perpendicular slope for line2\n",
    "b_line2 = midpoint_line1[1] - slope_line2 * midpoint_line1[0] # Calculate the y-intercept for line2 using the midpoint\n",
    "\n",
    "# Calculate the coordinates for line2 based on the frame size\n",
    "height, width, _ = img.shape\n",
    "x1_line2 = int(midpoint_line1[0] - width / 2)  # Adjust the length of line2 as needed\n",
    "y1_line2 = int(slope_line2 * x1_line2 + b_line2)\n",
    "\n",
    "x2_line2 = int(midpoint_line1[0] + width / 2)  # Adjust the length of line2 as needed\n",
    "y2_line2 = int(slope_line2 * x2_line2 + b_line2)\n",
    "\n",
    "points_line2 = [(x1_line2, y1_line2), (x2_line2, y2_line2)]"
   ]
  },
  {
   "cell_type": "code",
   "execution_count": 47,
   "id": "fd3ce381",
   "metadata": {},
   "outputs": [],
   "source": [
    "# Function to handle mouse events for setting inside_area\n",
    "def set_inside_area(event, x, y, flags, param):\n",
    "    global inside_area\n",
    "    if event == cv2.EVENT_LBUTTONDOWN:\n",
    "        inside_area = True\n",
    "    elif event == cv2.EVENT_RBUTTONDOWN:\n",
    "        inside_area = False"
   ]
  },
  {
   "cell_type": "code",
   "execution_count": 48,
   "id": "fb5024e1",
   "metadata": {},
   "outputs": [],
   "source": [
    "cv2.namedWindow('Video')\n",
    "cv2.setMouseCallback('Video', set_inside_area)\n",
    "cv2.resizeWindow('Video', 200, 150)  # Set the size of the window (width, height)\n",
    "\n",
    "while True:\n",
    "    if not paused:\n",
    "        ret, frame = cap.read()\n",
    "        if not ret:\n",
    "            break\n",
    "\n",
    "    cv2.line(frame, points_line2[0], points_line2[1], (0, 255, 0), 2)  # Draw line2 in green\n",
    "\n",
    "    cv2.imshow('Video', frame)\n",
    "\n",
    "    key = cv2.waitKey(frame_delay) & 0xFF\n",
    "    if key == 27:\n",
    "        break\n",
    "        \n",
    "    elif key == 32:\n",
    "        paused = not paused\n",
    "        \n",
    "    elif key == ord('6'): \n",
    "        paused = False\n",
    "        \n",
    "    elif key == ord('4'):  \n",
    "        # Go back 5 frames (adjust as needed)\n",
    "        cap.set(cv2.CAP_PROP_POS_FRAMES, max(0, cap.get(cv2.CAP_PROP_POS_FRAMES) - 60))\n",
    "        \n",
    "        \n",
    "    frame_number = int(cap.get(cv2.CAP_PROP_POS_FRAMES))    \n",
    "    fish_data['fish_inside_area'][frame_number] = inside_area\n",
    "        \n",
    "    print(frame_number, inside_area)\n",
    "\n",
    "# Save data to CSV\n",
    "#df = pd.DataFrame(data)\n",
    "\n",
    "\n",
    "#df.to_csv('fish_activity_data.csv', index=False)\n",
    "\n",
    "# Release the VideoCapture and close the window\n",
    "cap.release()\n",
    "cv2.destroyAllWindows()"
   ]
  }
 ],
 "metadata": {
  "kernelspec": {
   "display_name": "lab",
   "language": "python",
   "name": "lab"
  },
  "language_info": {
   "codemirror_mode": {
    "name": "ipython",
    "version": 3
   },
   "file_extension": ".py",
   "mimetype": "text/x-python",
   "name": "python",
   "nbconvert_exporter": "python",
   "pygments_lexer": "ipython3",
   "version": "3.9.18"
  }
 },
 "nbformat": 4,
 "nbformat_minor": 5
}
