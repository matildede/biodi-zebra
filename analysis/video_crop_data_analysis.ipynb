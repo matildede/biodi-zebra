{
 "cells": [
  {
   "cell_type": "code",
   "execution_count": 20,
   "id": "51d546b1",
   "metadata": {},
   "outputs": [],
   "source": [
    "import cv2\n",
    "import tkinter as tk\n",
    "from tkinter import filedialog\n",
    "from pathlib import Path\n",
    "import numpy as np"
   ]
  },
  {
   "cell_type": "code",
   "execution_count": 19,
   "id": "7afc282d",
   "metadata": {
    "scrolled": true
   },
   "outputs": [
    {
     "name": "stdout",
     "output_type": "stream",
     "text": [
      "14.250032697803595\n"
     ]
    }
   ],
   "source": [
    "distance = 6\n",
    "dot = 1.5\n",
    "\n",
    "vangle = (2 * np.arctan(dot/(2*distance))) * (180/np.pi)\n",
    "print(vangle)"
   ]
  },
  {
   "cell_type": "code",
   "execution_count": 5,
   "id": "7e1c4e43",
   "metadata": {},
   "outputs": [
    {
     "data": {
      "text/plain": [
       "3.141592653589793"
      ]
     },
     "execution_count": 5,
     "metadata": {},
     "output_type": "execute_result"
    }
   ],
   "source": [
    "np.pi"
   ]
  },
  {
   "cell_type": "code",
   "execution_count": 21,
   "id": "f823afd9",
   "metadata": {},
   "outputs": [],
   "source": [
    "def get_crop_coordinates(frame, title=\"Select Crop Area\"):\n",
    "    \"\"\"\n",
    "    Function to interactively select a cropping area (region of interest) from an image.\n",
    "\n",
    "    Parameters:\n",
    "        frame (numpy.ndarray): The input image frame from which to select the cropping area.\n",
    "        title (str): The title of the window to be displayed during selection. Default is \"Select Crop Area\".\n",
    "\n",
    "    Returns:\n",
    "        tuple: A tuple (x1, y1, x2, y2) representing the coordinates of the selected cropping area.\n",
    "               (x1, y1) are the top-left corner, and (x2, y2) are the bottom-right corner of the cropped area.\n",
    "    \"\"\"\n",
    "    r = cv2.selectROI(title, frame, fromCenter=False, showCrosshair=True) #return x,y,w,h\n",
    "    cv2.destroyAllWindows()\n",
    "    return r[0], r[1], r[0] + r[2], r[1] + r[3]  "
   ]
  },
  {
   "cell_type": "markdown",
   "id": "e69b466e",
   "metadata": {},
   "source": [
    "### 1. Import video path"
   ]
  },
  {
   "cell_type": "code",
   "execution_count": 44,
   "id": "7ef33e62",
   "metadata": {},
   "outputs": [],
   "source": [
    "main_folder = r'\\\\cimec-storage5\\acn_lab\\shared_acn\\Matilde\\zebrafish\\biodi_experiment\\experiment_data\\reorganized_video'\n",
    "subfolder = main_folder + r'\\2023-10-18\\ID60'\n",
    "name = r'\\2023-10-18-182312_ID60_exp3-n3-speed6-n6-speed3_TEST'\n",
    "video_path = Path(subfolder + name + '.avi')"
   ]
  },
  {
   "cell_type": "markdown",
   "id": "8955615c",
   "metadata": {},
   "source": [
    "### 2. Open video and check frame"
   ]
  },
  {
   "cell_type": "code",
   "execution_count": 45,
   "id": "db82fee0",
   "metadata": {},
   "outputs": [],
   "source": [
    "full_video_path = str(video_path) #convert the video path to string\n",
    "video = cv2.VideoCapture(full_video_path)#read video file and create a video object\n",
    "framerate = video.get(cv2.CAP_PROP_FPS)\n",
    "ret, frame = video.read() #read a frame from the video file\n",
    "    \n",
    "cv2.imshow(\"Select First Frame and Crop ROIs\", frame) #display the frame\n",
    "cv2.waitKey(0)\n",
    "#command to close the window\n",
    "cv2.destroyAllWindows()"
   ]
  },
  {
   "cell_type": "markdown",
   "id": "63167ed6",
   "metadata": {},
   "source": [
    "### 3. Select ROIs: number and shape"
   ]
  },
  {
   "cell_type": "code",
   "execution_count": 26,
   "id": "73e8335c",
   "metadata": {},
   "outputs": [
    {
     "name": "stdout",
     "output_type": "stream",
     "text": [
      "Enter the number of ROIs to crop: 3\n"
     ]
    }
   ],
   "source": [
    "num_rois = int(input(\"Enter the number of ROIs to crop: \")) #depending on the number of fish, select the number of ROIs to cut"
   ]
  },
  {
   "cell_type": "code",
   "execution_count": 27,
   "id": "8808bf6b",
   "metadata": {},
   "outputs": [],
   "source": [
    "title=\"Select Crop Area\"\n",
    "roi_coordinates = []\n",
    "\n",
    "for i in range(num_rois): #Manually crop ROIs\n",
    "    coordinates = get_crop_coordinates(frame)\n",
    "    roi_coordinates.append(coordinates)\n",
    "    cv2.destroyAllWindows()"
   ]
  },
  {
   "cell_type": "code",
   "execution_count": 28,
   "id": "068e1084",
   "metadata": {},
   "outputs": [
    {
     "data": {
      "text/plain": [
       "[(61, 95, 457, 847), (448, 95, 811, 841), (809, 88, 1234, 836)]"
      ]
     },
     "execution_count": 28,
     "metadata": {},
     "output_type": "execute_result"
    }
   ],
   "source": [
    "roi_coordinates #print coordinates"
   ]
  },
  {
   "cell_type": "code",
   "execution_count": 29,
   "id": "6144ec07",
   "metadata": {},
   "outputs": [
    {
     "name": "stdout",
     "output_type": "stream",
     "text": [
      "752\n",
      "746\n",
      "748\n"
     ]
    }
   ],
   "source": [
    "for i in range(num_rois):\n",
    "    print(roi_coordinates[i][3] - roi_coordinates[i][1]) #print width of each video "
   ]
  },
  {
   "cell_type": "markdown",
   "id": "e8736313",
   "metadata": {},
   "source": [
    "### 4. Cut the video "
   ]
  },
  {
   "cell_type": "code",
   "execution_count": 46,
   "id": "eb16ec0b",
   "metadata": {},
   "outputs": [],
   "source": [
    "new_folder = video_path.parent.parent.parent / 'cropped_data'\n",
    "new_folder.mkdir(parents=True, exist_ok=True)\n",
    "\n",
    "fish_count = 165\n",
    "output_files = []\n",
    "\n",
    "for j in range(num_rois):\n",
    "    fish_count = fish_count + 1\n",
    "    file_path = new_folder / f\"{video_path.stem}_fish{fish_count}.avi\" \n",
    "    output_files.append(file_path)\n",
    "\n",
    "fourcc = cv2.VideoWriter_fourcc(*\"MJPG\") #H264 for mp4, MJPG for avi\n",
    "outs = [cv2.VideoWriter(str(out_file), fourcc, framerate, (x2 - x1, y2 - y1)) for out_file, (x1, y1, x2, y2) in zip(output_files, roi_coordinates)]\n",
    "\n",
    "while True:\n",
    "    ret, frame                                                                                                                                                                                                                                                                                                                                                                                                                                                                                                                                                                                                                                                                                                                                                                                                                                                                                                                                                                                                                                                                                                     = video.read()\n",
    "    if not ret:\n",
    "        break\n",
    "\n",
    "    for i, (x1, y1, x2, y2) in enumerate(roi_coordinates):\n",
    "        cropped_frame = frame[y1:y2, x1:x2]\n",
    "        outs[i].write(cropped_frame)\n",
    "        \n",
    "video.release()\n",
    "for out in outs:\n",
    "    out.release()"
   ]
  }
 ],
 "metadata": {
  "kernelspec": {
   "display_name": "Python 3",
   "language": "python",
   "name": "python3"
  },
  "language_info": {
   "codemirror_mode": {
    "name": "ipython",
    "version": 3
   },
   "file_extension": ".py",
   "mimetype": "text/x-python",
   "name": "python",
   "nbconvert_exporter": "python",
   "pygments_lexer": "ipython3",
   "version": "3.8.8"
  }
 },
 "nbformat": 4,
 "nbformat_minor": 5
}
